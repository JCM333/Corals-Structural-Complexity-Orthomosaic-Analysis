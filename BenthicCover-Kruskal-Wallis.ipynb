{
 "cells": [
  {
   "cell_type": "markdown",
   "metadata": {},
   "source": [
    "Author: Montes-Herrera Juan Carlos \\\n",
    "e-mail: juancarlos.montesherrera@utas.edu.au"
   ]
  },
  {
   "cell_type": "code",
   "execution_count": 1,
   "metadata": {},
   "outputs": [],
   "source": [
    "import os\n",
    "import pandas as pd\n",
    "from scipy.stats import mstats"
   ]
  },
  {
   "cell_type": "code",
   "execution_count": 2,
   "metadata": {},
   "outputs": [],
   "source": [
    "#os.chdir('Notebooks/Data/Benthic_Cover_Analysis')"
   ]
  },
  {
   "cell_type": "markdown",
   "metadata": {
    "scrolled": true
   },
   "source": [
    "## Vector method comparison between sites"
   ]
  },
  {
   "cell_type": "code",
   "execution_count": 4,
   "metadata": {},
   "outputs": [
    {
     "data": {
      "text/html": [
       "<div>\n",
       "<style scoped>\n",
       "    .dataframe tbody tr th:only-of-type {\n",
       "        vertical-align: middle;\n",
       "    }\n",
       "\n",
       "    .dataframe tbody tr th {\n",
       "        vertical-align: top;\n",
       "    }\n",
       "\n",
       "    .dataframe thead th {\n",
       "        text-align: right;\n",
       "    }\n",
       "</style>\n",
       "<table border=\"1\" class=\"dataframe\">\n",
       "  <thead>\n",
       "    <tr style=\"text-align: right;\">\n",
       "      <th></th>\n",
       "      <th>Pocillopora</th>\n",
       "      <th>Coral-Fragments</th>\n",
       "      <th>Sand</th>\n",
       "      <th>Rock</th>\n",
       "      <th>Porites</th>\n",
       "      <th>Algae</th>\n",
       "      <th>Pavona</th>\n",
       "      <th>Not-classified</th>\n",
       "    </tr>\n",
       "  </thead>\n",
       "  <tbody>\n",
       "    <tr>\n",
       "      <td>0</td>\n",
       "      <td>173.611</td>\n",
       "      <td>18.981</td>\n",
       "      <td>15.500</td>\n",
       "      <td>27.972</td>\n",
       "      <td>0.871</td>\n",
       "      <td>5.353</td>\n",
       "      <td>0.000</td>\n",
       "      <td>67.786</td>\n",
       "    </tr>\n",
       "    <tr>\n",
       "      <td>1</td>\n",
       "      <td>159.401</td>\n",
       "      <td>10.902</td>\n",
       "      <td>13.872</td>\n",
       "      <td>14.000</td>\n",
       "      <td>0.125</td>\n",
       "      <td>0.000</td>\n",
       "      <td>4.591</td>\n",
       "      <td>56.549</td>\n",
       "    </tr>\n",
       "  </tbody>\n",
       "</table>\n",
       "</div>"
      ],
      "text/plain": [
       "   Pocillopora  Coral-Fragments    Sand    Rock  Porites  Algae  Pavona  \\\n",
       "0      173.611           18.981  15.500  27.972    0.871  5.353   0.000   \n",
       "1      159.401           10.902  13.872  14.000    0.125  0.000   4.591   \n",
       "\n",
       "   Not-classified  \n",
       "0          67.786  \n",
       "1          56.549  "
      ]
     },
     "execution_count": 4,
     "metadata": {},
     "output_type": "execute_result"
    }
   ],
   "source": [
    "#import dataset\n",
    "Data = pd.read_csv('SitesComparison_Shapes_method.csv')\n",
    "Data"
   ]
  },
  {
   "cell_type": "code",
   "execution_count": 8,
   "metadata": {
    "scrolled": true
   },
   "outputs": [
    {
     "name": "stdout",
     "output_type": "stream",
     "text": [
      "Kruskal Wallis H-test test:\n",
      "H-statistic: 13.575110456553762\n",
      "P-Value: 0.05927552000537245\n",
      "Accept Nule Hypothesis - No significative differences exist between locations\n"
     ]
    }
   ],
   "source": [
    "#Extract each column values\n",
    "Poci = Data['Pocillopora'].values\n",
    "Frag = Data['Coral-Fragments'].values\n",
    "Sand = Data['Sand'].values\n",
    "Rock = Data['Rock'].values\n",
    "Porites = Data['Porites'].values\n",
    "Algae = Data['Algae'].values\n",
    "Pavona = Data['Pavona'].values\n",
    "NoClas = Data['Not-classified'].values\n",
    "\n",
    "print(\"Kruskal Wallis H-test test:\")\n",
    "\n",
    "#Statistical test\n",
    "H, pval = mstats.kruskalwallis(Poci, Frag, Sand, Rock, Porites, Algae, Pavona, NoClas)\n",
    "\n",
    "#Print results\n",
    "print(\"H-statistic:\", H)\n",
    "print(\"P-Value:\", pval)\n",
    "\n",
    "if pval < 0.05:\n",
    "    print(\"Reject Nule Hypothesis - Significative differences exist between locations\")\n",
    "if pval > 0.05:\n",
    "    print(\"Accept Nule Hypothesis - No significative differences exist between locations\")"
   ]
  },
  {
   "cell_type": "markdown",
   "metadata": {},
   "source": [
    "## Hue-Saturation-Brightness (HSB) method comparison between sites"
   ]
  },
  {
   "cell_type": "code",
   "execution_count": 9,
   "metadata": {},
   "outputs": [
    {
     "data": {
      "text/html": [
       "<div>\n",
       "<style scoped>\n",
       "    .dataframe tbody tr th:only-of-type {\n",
       "        vertical-align: middle;\n",
       "    }\n",
       "\n",
       "    .dataframe tbody tr th {\n",
       "        vertical-align: top;\n",
       "    }\n",
       "\n",
       "    .dataframe thead th {\n",
       "        text-align: right;\n",
       "    }\n",
       "</style>\n",
       "<table border=\"1\" class=\"dataframe\">\n",
       "  <thead>\n",
       "    <tr style=\"text-align: right;\">\n",
       "      <th></th>\n",
       "      <th>Coralligenous</th>\n",
       "      <th>Sand-Rock</th>\n",
       "      <th>Not-classified</th>\n",
       "    </tr>\n",
       "  </thead>\n",
       "  <tbody>\n",
       "    <tr>\n",
       "      <td>0</td>\n",
       "      <td>224.056</td>\n",
       "      <td>97.003</td>\n",
       "      <td>60.543</td>\n",
       "    </tr>\n",
       "    <tr>\n",
       "      <td>1</td>\n",
       "      <td>142.277</td>\n",
       "      <td>53.714</td>\n",
       "      <td>27.255</td>\n",
       "    </tr>\n",
       "  </tbody>\n",
       "</table>\n",
       "</div>"
      ],
      "text/plain": [
       "   Coralligenous  Sand-Rock  Not-classified\n",
       "0        224.056     97.003          60.543\n",
       "1        142.277     53.714          27.255"
      ]
     },
     "execution_count": 9,
     "metadata": {},
     "output_type": "execute_result"
    }
   ],
   "source": [
    "Data = pd.read_csv('SitesComparison_HSB_method.csv')\n",
    "Data"
   ]
  },
  {
   "cell_type": "code",
   "execution_count": 10,
   "metadata": {
    "scrolled": true
   },
   "outputs": [
    {
     "name": "stdout",
     "output_type": "stream",
     "text": [
      "Kruskal Wallis H-test test:\n",
      "H-statistic: 3.7142857142857117\n",
      "P-Value: 0.1561180453159713\n",
      "Accept Nule Hypothesis - No significative differences exist between locations\n"
     ]
    }
   ],
   "source": [
    "Coralligenous = Data['Coralligenous'].values\n",
    "SandRock = Data['Sand-Rock'].values\n",
    "NoClas = Data['Not-classified'].values\n",
    "\n",
    "print(\"Kruskal Wallis H-test test:\")\n",
    "\n",
    "H, pval = mstats.kruskalwallis(Coralligenous, SandRock, NoClas)\n",
    "\n",
    "print(\"H-statistic:\", H)\n",
    "print(\"P-Value:\", pval)\n",
    "\n",
    "if pval < 0.05:\n",
    "    print(\"Reject Nule Hypothesis - Significative differences exist between locations\")\n",
    "if pval > 0.05:\n",
    "    print(\"Accept Nule Hypothesis - No significative differences exist between locations\")"
   ]
  },
  {
   "cell_type": "markdown",
   "metadata": {},
   "source": [
    "## Methods comparison for Location 1 - Punta Galeras"
   ]
  },
  {
   "cell_type": "code",
   "execution_count": 11,
   "metadata": {},
   "outputs": [
    {
     "data": {
      "text/html": [
       "<div>\n",
       "<style scoped>\n",
       "    .dataframe tbody tr th:only-of-type {\n",
       "        vertical-align: middle;\n",
       "    }\n",
       "\n",
       "    .dataframe tbody tr th {\n",
       "        vertical-align: top;\n",
       "    }\n",
       "\n",
       "    .dataframe thead th {\n",
       "        text-align: right;\n",
       "    }\n",
       "</style>\n",
       "<table border=\"1\" class=\"dataframe\">\n",
       "  <thead>\n",
       "    <tr style=\"text-align: right;\">\n",
       "      <th></th>\n",
       "      <th>Coralligenous</th>\n",
       "      <th>Sand-Rock</th>\n",
       "      <th>Not-Classified</th>\n",
       "    </tr>\n",
       "  </thead>\n",
       "  <tbody>\n",
       "    <tr>\n",
       "      <td>0</td>\n",
       "      <td>173.611</td>\n",
       "      <td>43.472</td>\n",
       "      <td>67.786</td>\n",
       "    </tr>\n",
       "    <tr>\n",
       "      <td>1</td>\n",
       "      <td>224.056</td>\n",
       "      <td>97.003</td>\n",
       "      <td>60.543</td>\n",
       "    </tr>\n",
       "  </tbody>\n",
       "</table>\n",
       "</div>"
      ],
      "text/plain": [
       "   Coralligenous  Sand-Rock  Not-Classified\n",
       "0        173.611     43.472          67.786\n",
       "1        224.056     97.003          60.543"
      ]
     },
     "execution_count": 11,
     "metadata": {},
     "output_type": "execute_result"
    }
   ],
   "source": [
    "Data = pd.read_csv('MethodsComparison_Location1.csv')\n",
    "Data"
   ]
  },
  {
   "cell_type": "code",
   "execution_count": 13,
   "metadata": {
    "scrolled": true
   },
   "outputs": [
    {
     "name": "stdout",
     "output_type": "stream",
     "text": [
      "Kruskal Wallis H-test test:\n",
      "H-statistic: 3.428571428571427\n",
      "P-Value: 0.18009231214795254\n",
      "Accept Nule Hypothesis - No significative differences exist between methods\n"
     ]
    }
   ],
   "source": [
    "Coralligenous = Data['Coralligenous'].values\n",
    "SandRock = Data['Sand-Rock'].values\n",
    "NoClas = Data['Not-Classified'].values\n",
    "\n",
    "print(\"Kruskal Wallis H-test test:\")\n",
    "\n",
    "H1, pval1 = mstats.kruskalwallis(Coralligenous, SandRock, NoClas)\n",
    "\n",
    "print(\"H-statistic:\", H1)\n",
    "print(\"P-Value:\", pval1)\n",
    "\n",
    "if pval1 < 0.05:\n",
    "    print(\"Reject Nule Hypothesis - Significative differences exist between methods\")\n",
    "if pval1 > 0.05:\n",
    "    print(\"Accept Nule Hypothesis - No significative differences exist between methods\")"
   ]
  },
  {
   "cell_type": "markdown",
   "metadata": {},
   "source": [
    "## Methods comparison for Location 2 - Punta Pichilingue"
   ]
  },
  {
   "cell_type": "code",
   "execution_count": 14,
   "metadata": {},
   "outputs": [
    {
     "data": {
      "text/html": [
       "<div>\n",
       "<style scoped>\n",
       "    .dataframe tbody tr th:only-of-type {\n",
       "        vertical-align: middle;\n",
       "    }\n",
       "\n",
       "    .dataframe tbody tr th {\n",
       "        vertical-align: top;\n",
       "    }\n",
       "\n",
       "    .dataframe thead th {\n",
       "        text-align: right;\n",
       "    }\n",
       "</style>\n",
       "<table border=\"1\" class=\"dataframe\">\n",
       "  <thead>\n",
       "    <tr style=\"text-align: right;\">\n",
       "      <th></th>\n",
       "      <th>Coralligenous</th>\n",
       "      <th>Sand-Rocks</th>\n",
       "      <th>Not-Classified</th>\n",
       "    </tr>\n",
       "  </thead>\n",
       "  <tbody>\n",
       "    <tr>\n",
       "      <td>0</td>\n",
       "      <td>159.401</td>\n",
       "      <td>27.872</td>\n",
       "      <td>56.549</td>\n",
       "    </tr>\n",
       "    <tr>\n",
       "      <td>1</td>\n",
       "      <td>142.277</td>\n",
       "      <td>53.714</td>\n",
       "      <td>27.255</td>\n",
       "    </tr>\n",
       "  </tbody>\n",
       "</table>\n",
       "</div>"
      ],
      "text/plain": [
       "   Coralligenous  Sand-Rocks  Not-Classified\n",
       "0        159.401      27.872          56.549\n",
       "1        142.277      53.714          27.255"
      ]
     },
     "execution_count": 14,
     "metadata": {},
     "output_type": "execute_result"
    }
   ],
   "source": [
    "Data = pd.read_csv('MethodsComparison_Location2.csv')\n",
    "Data"
   ]
  },
  {
   "cell_type": "code",
   "execution_count": 16,
   "metadata": {},
   "outputs": [
    {
     "name": "stdout",
     "output_type": "stream",
     "text": [
      "Kruskal Wallis H-test test:\n",
      "H-statistic: 3.428571428571427\n",
      "P-Value: 0.18009231214795254\n",
      "Accept Nule Hypothesis - No significative differences exist between methods\n"
     ]
    }
   ],
   "source": [
    "Coralligenous = Data['Coralligenous'].values\n",
    "SandRock = Data['Sand-Rocks'].values\n",
    "NoClas = Data['Not-Classified'].values\n",
    "print(\"Kruskal Wallis H-test test:\")\n",
    "\n",
    "H2, pval2 = mstats.kruskalwallis(Coralligenous, SandRock, NoClas)\n",
    "\n",
    "print(\"H-statistic:\", H2)\n",
    "print(\"P-Value:\", pval2)\n",
    "\n",
    "if pval2 < 0.05:\n",
    "    print(\"Reject Nule Hypothesis - Significative differences exist between methods\")\n",
    "if pval2 > 0.05:\n",
    "    print(\"Accept Nule Hypothesis - No significative differences exist between methods\")"
   ]
  },
  {
   "cell_type": "code",
   "execution_count": null,
   "metadata": {},
   "outputs": [],
   "source": []
  }
 ],
 "metadata": {
  "kernelspec": {
   "display_name": "Python 3",
   "language": "python",
   "name": "python3"
  },
  "language_info": {
   "codemirror_mode": {
    "name": "ipython",
    "version": 3
   },
   "file_extension": ".py",
   "mimetype": "text/x-python",
   "name": "python",
   "nbconvert_exporter": "python",
   "pygments_lexer": "ipython3",
   "version": "3.7.0"
  }
 },
 "nbformat": 4,
 "nbformat_minor": 2
}
